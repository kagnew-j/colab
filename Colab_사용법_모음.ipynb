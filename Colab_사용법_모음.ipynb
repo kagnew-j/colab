{
  "nbformat": 4,
  "nbformat_minor": 0,
  "metadata": {
    "colab": {
      "name": "Colab 사용법 모음.ipynb",
      "provenance": [],
      "authorship_tag": "ABX9TyPB2Pn+nPOCWHcv7MjqcbhE",
      "include_colab_link": true
    },
    "kernelspec": {
      "name": "python3",
      "display_name": "Python 3"
    }
  },
  "cells": [
    {
      "cell_type": "markdown",
      "metadata": {
        "id": "view-in-github",
        "colab_type": "text"
      },
      "source": [
        "<a href=\"https://colab.research.google.com/github/kagnew-j/colab/blob/master/Colab_%EC%82%AC%EC%9A%A9%EB%B2%95_%EB%AA%A8%EC%9D%8C.ipynb\" target=\"_parent\"><img src=\"https://colab.research.google.com/assets/colab-badge.svg\" alt=\"Open In Colab\"/></a>"
      ]
    },
    {
      "cell_type": "markdown",
      "metadata": {
        "id": "hX58hFOMTIOY"
      },
      "source": [
        "구글 코랩 로컬 PC에서 파일 업로드 하기"
      ]
    },
    {
      "cell_type": "code",
      "metadata": {
        "id": "StobVnc0QkFr"
      },
      "source": [
        "from google.colab import files\r\n",
        "uploaded = files.upload()\r\n",
        "\r\n",
        "for fn in upload.keys():\r\n",
        "  print(\"User uploaded file '{name}' with length {length} bytes\".format(name=fn, length = len(uploaded(fn))))"
      ],
      "execution_count": null,
      "outputs": []
    },
    {
      "cell_type": "code",
      "metadata": {
        "id": "w49tlR5QTICT"
      },
      "source": [
        "import pandas as pd\r\n",
        "import io \r\n",
        "\r\n",
        "question = pd.read_csv(io.StringIO(uploaded['schema.csv'].decode('utf-8')))\r\n",
        "\r\n",
        "question"
      ],
      "execution_count": null,
      "outputs": []
    },
    {
      "cell_type": "markdown",
      "metadata": {
        "id": "mChzW5r9URL9"
      },
      "source": [
        "구글 코랩 환경 마운트하기"
      ]
    },
    {
      "cell_type": "code",
      "metadata": {
        "id": "5pImUG1dUOus"
      },
      "source": [
        "from google.colab import drive\r\n",
        "drive.mount('/content/drive')\r\n",
        " \r\n",
        "import sys\r\n",
        "sys.version_info\r\n",
        " \r\n",
        "import platform\r\n",
        "platform.platform()\r\n",
        " \r\n",
        "import pkg_resources\r\n",
        "dists = [d for d in pkg_resources.working_set]\r\n",
        "dists"
      ],
      "execution_count": null,
      "outputs": []
    }
  ]
}